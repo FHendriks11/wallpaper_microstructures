{
 "cells": [
  {
   "cell_type": "markdown",
   "metadata": {},
   "source": [
    "In the course of generating a geometry and simulating it, quite a few output files are created. Here, they are opened and examined to figure out what is in which file.\n",
    "\n",
    "Additionally, the mean and median time per simulation is calculated."
   ]
  },
  {
   "cell_type": "markdown",
   "metadata": {},
   "source": [
    "# Examine one geometry"
   ]
  },
  {
   "cell_type": "markdown",
   "metadata": {},
   "source": [
    "## Specify name"
   ]
  },
  {
   "cell_type": "code",
   "execution_count": null,
   "metadata": {},
   "outputs": [],
   "source": [
    "name = 'cmm_rhombic_2024-05-22_14-55-30.090316'"
   ]
  },
  {
   "cell_type": "markdown",
   "metadata": {},
   "source": [
    "## Content of MatLab results file"
   ]
  },
  {
   "cell_type": "code",
   "execution_count": null,
   "metadata": {},
   "outputs": [],
   "source": [
    "\n",
    "folder_path = r\"C:\\Users\\s132764\\OneDrive - TU Eindhoven\\Werk\\matlab\\Martins_code\\data\""
   ]
  },
  {
   "cell_type": "code",
   "execution_count": null,
   "metadata": {},
   "outputs": [],
   "source": [
    "file = os.path.join(folder_path, name)\n",
    "\n",
    "# open file\n",
    "data_from_mat = sio.loadmat(file)\n",
    "\n",
    "print(data_from_mat.keys())\n",
    "print('\\n')\n",
    "\n",
    "print(data_from_mat['data_ts'].dtype)\n",
    "print('\\n')\n",
    "\n",
    "for key1 in ['data_sim', 'data_ts']:\n",
    "    print(f'{key1}: {data_from_mat[key1].dtype.names}')\n",
    "    for key2 in data_from_mat[key1].dtype.names:\n",
    "        shape = data_from_mat[key1][key2][0,0].shape\n",
    "        dtype = data_from_mat[key1][key2][0,0].dtype\n",
    "        print(f'\\t- {key2}[0,0]: shape {shape}, dtype {dtype}')\n",
    "\n",
    "print('\\n')\n",
    "print(data_from_mat['data_ts'].dtype)"
   ]
  },
  {
   "cell_type": "markdown",
   "metadata": {},
   "source": [
    "## Contents of .mat file specialnodes"
   ]
  },
  {
   "cell_type": "code",
   "execution_count": null,
   "metadata": {},
   "outputs": [],
   "source": [
    "folder_path = r\"C:\\Users\\s132764\\OneDrive - TU Eindhoven\\Werk\\matlab\\Martins_code\\data\"\n",
    "\n",
    "file = os.path.join(folder_path, name + '_specialnodes')\n",
    "\n",
    "# open file\n",
    "data_from_mat_specialnodes = sio.loadmat(file)\n",
    "\n",
    "print(data_from_mat_specialnodes.keys())\n",
    "print('\\n')\n",
    "\n",
    "print(type(data_from_mat_specialnodes))\n",
    "print('\\n')\n",
    "\n",
    "\n",
    "for key2 in data_from_mat_specialnodes:\n",
    "    dtype = type(data_from_mat_specialnodes[key2])\n",
    "    length = len(data_from_mat_specialnodes[key2])\n",
    "    print(f'{key2}: type: {dtype}, len: {length}')\n",
    "\n",
    "    if isinstance(data_from_mat_specialnodes[key2], np.ndarray):\n",
    "        print(f'\\tshape: {data_from_mat_specialnodes[key2].shape}')\n",
    "    # print(data_from_mat_specialnodes[key2])\n",
    "    # print(f'\\t- {key2}: shape {\"?\"}, dtype {dtype}')\n",
    "\n",
    "print('\\n')"
   ]
  },
  {
   "cell_type": "markdown",
   "metadata": {},
   "source": [
    "## Contents of .mat file from geometry generation (TO MATLAB)"
   ]
  },
  {
   "cell_type": "code",
   "execution_count": null,
   "metadata": {},
   "outputs": [],
   "source": [
    "# Import geometry/mesh file\n",
    "folder_path = r\"C:\\Users\\s132764\\OneDrive - TU Eindhoven\\Werk\\python\\wallpaper_dataset\\data\\dataset1\\simulated\"\n",
    "\n",
    "path = os.path.join(folder_path, name, name + '_00.mat')\n",
    "print(path)\n",
    "data_to_mat = sio.loadmat(path)\n",
    "\n",
    "print('In geometry file:')\n",
    "\n",
    "for key in data_to_mat:\n",
    "    if key.startswith('__'):\n",
    "        print(f'* {key}: {data_to_mat[key]}')\n",
    "    else:\n",
    "        shape = data_to_mat[key].shape\n",
    "        dtype = data_to_mat[key].dtype\n",
    "        print(f'* {key}: shape {shape}, dtype {dtype}')\n",
    "\n",
    "        # if data_to_mat[key].size <= 16:\n",
    "        #     if data_to_mat[key][0].size <= 16:\n",
    "        #         if data_to_mat[key][0][0].size <= 16:\n",
    "        #             print(f'\\t\\t- {key} = {data_to_mat[key]}')\n"
   ]
  },
  {
   "cell_type": "markdown",
   "metadata": {},
   "source": [
    "## Contents of .pkl file from geometry generation"
   ]
  },
  {
   "cell_type": "code",
   "execution_count": null,
   "metadata": {},
   "outputs": [],
   "source": [
    "path = os.path.join(folder_path, name, name + '_00.pkl')\n",
    "print(path)\n",
    "\n",
    "with open(path, 'rb') as f:\n",
    "    data_pkl = pickle.load(f)\n",
    "\n",
    "for key in data_pkl:\n",
    "    if isinstance(data_pkl[key], dict):\n",
    "        print(f'* {key}: {len(data_pkl[key].keys())} entries')\n",
    "        for key2 in data_pkl[key]:\n",
    "\n",
    "            if isinstance(data_pkl[key][key2], list):\n",
    "                print(f'\\t- {key2}: list, {len(data_pkl[key][key2])}')\n",
    "                if data_pkl[key][key2] == []:\n",
    "                    print('\\t\\t- empty list')\n",
    "                elif isinstance(data_pkl[key][key2][0], list):\n",
    "                    print(f'\\t\\t- {key2}[0]: list, {len(data_pkl[key][key2][0])}')\n",
    "                else:\n",
    "                    print(f'\\t\\tfilled with {type(data_pkl[key][key2][0])}')\n",
    "            elif isinstance(data_pkl[key][key2], np.ndarray):\n",
    "                print(f'\\t- {key2}: array, {data_pkl[key][key2].shape}, {data_pkl[key][key2].dtype}')\n",
    "            else:\n",
    "                print(f'\\t- {key2}: {type(data_pkl[key][key2])} {data_pkl[key][key2]}')\n",
    "    elif isinstance(data_pkl[key], list):\n",
    "        print(f'* {key}: list, len {len(data_pkl[key])}')\n",
    "        if data_pkl[key] == []:\n",
    "            print('\\t- empty list')\n",
    "        elif isinstance(data_pkl[key][0], list):\n",
    "            print(f'\\t- {key}[0]: list, {len(data_pkl[key][0])}')\n",
    "        elif isinstance(data_pkl[key][0], dict):\n",
    "            print(f'\\t- {key}[0]: dict, {len(data_pkl[key][0].keys())} entries, keys: {data_pkl[key][0].keys()}')\n",
    "\n",
    "            for key2 in data_pkl[key][0]:\n",
    "\n",
    "                if isinstance(data_pkl[key][0][key2], list):\n",
    "                    print(f'\\t\\t- {key2}: list, {len(data_pkl[key][0][key2])}')\n",
    "                    if data_pkl[key][0][key2] == []:\n",
    "                        print('\\t\\t\\t- empty list')\n",
    "                    elif isinstance(data_pkl[key][0][key2][0], list):\n",
    "                        print(f'\\t\\t\\t- {key2}[0]: list, {len(data_pkl[key][0][key2][0])}')\n",
    "                    else:\n",
    "                        print(f'\\t\\t\\tfilled with {type(data_pkl[key][0][key2][0])}')\n",
    "                elif isinstance(data_pkl[key][0][key2], np.ndarray):\n",
    "                    print(f'\\t\\t- {key2}: array, {data_pkl[key][0][key2].shape}, {data_pkl[key][0][key2].dtype}')\n",
    "                else:\n",
    "                    print(f'\\t\\t- {key2}: {type(data_pkl[key][0][key2])} {data_pkl[key][0][key2]}')\n",
    "        else:\n",
    "            print(f'\\t- filled with {type(data_pkl[key][0])}')\n",
    "\n",
    "    elif isinstance(data_pkl[key], np.ndarray):\n",
    "        print(f'* {key}: array, shape {data_pkl[key].shape}, {data_pkl[key].dtype}')\n",
    "    else:\n",
    "        print(f'* {key}: {type[data_pkl][key]}, {data_pkl[key]}')\n"
   ]
  },
  {
   "cell_type": "markdown",
   "metadata": {},
   "source": [
    "## Contents of _fd_00.pkl file from geometry generation"
   ]
  },
  {
   "cell_type": "code",
   "execution_count": null,
   "metadata": {},
   "outputs": [],
   "source": [
    "path = os.path.join(folder_path, name, name + '_fd_00.pkl')\n",
    "print(path)\n",
    "\n",
    "with open(path, 'rb') as f:\n",
    "    data = pickle.load(f)\n",
    "\n",
    "for key in data:\n",
    "    if isinstance(data[key], dict):\n",
    "        print(f'* {key}: {len(data[key].keys())} entries')\n",
    "        for key2 in data[key]:\n",
    "\n",
    "            if isinstance(data[key][key2], list):\n",
    "                print(f'\\t- {key2}: list, {len(data[key][key2])}')\n",
    "            elif isinstance(data[key][key2], np.ndarray):\n",
    "                print(f'\\t- {key2}: array, {data[key][key2].shape}, {data[key][key2].dtype}')\n",
    "            else:\n",
    "                print(f'\\t- {key2}: {type(data[key][key2])} {data[key][key2]}')\n",
    "    elif isinstance(data[key], list):\n",
    "        print(f'* {key}: {len(data[key])}')\n",
    "    elif isinstance(data[key], np.ndarray):\n",
    "        print(f'* {key}: {data[key].shape}, {data[key].dtype}')\n",
    "    else:\n",
    "        print(f'* {key}: {data[key]}')\n"
   ]
  },
  {
   "cell_type": "code",
   "execution_count": null,
   "metadata": {},
   "outputs": [],
   "source": [
    "%matplotlib qt\n",
    "\n",
    "# plot edges\n",
    "plt.scatter(*data['p'].T, alpha=0.3, s=1, c='gray')\n",
    "temp = data['t'][:, [0,3,1,4,2,5,0]]\n",
    "x, y = np.transpose(data['p'][temp.T], axes=[2,0,1])\n",
    "edges0 = plt.plot(x, y, alpha=0.1, c='gray', zorder=-1)\n",
    "plt.gca().set_aspect('equal', adjustable='box')"
   ]
  },
  {
   "cell_type": "markdown",
   "metadata": {},
   "source": [
    "# Check wallpaper group specifications"
   ]
  },
  {
   "cell_type": "code",
   "execution_count": null,
   "metadata": {},
   "outputs": [],
   "source": [
    "import mesh_funcs\n",
    "import numpy as np"
   ]
  },
  {
   "cell_type": "code",
   "execution_count": null,
   "metadata": {},
   "outputs": [],
   "source": [
    "for key, value in mesh_funcs.wallpaper_groups.items():\n",
    "    print(key)\n",
    "    for key2, value2 in value['fundamental domain parameters'].items():\n",
    "        print(f'\\t- {key2}: {value2}')\n",
    "        # print(value2)\n",
    "        gamma = np.array(value2[\"gamma\"])\n",
    "        print(f'\\t\\t- gamma {gamma/np.pi} pi')\n"
   ]
  },
  {
   "cell_type": "code",
   "execution_count": null,
   "metadata": {},
   "outputs": [],
   "source": [
    "for key, value in mesh_funcs.wallpaper_groups.items():\n",
    "    print(key, value['fundamental domain shape'])"
   ]
  },
  {
   "cell_type": "code",
   "execution_count": null,
   "metadata": {},
   "outputs": [],
   "source": [
    "# check keys per group\n",
    "for key, value in mesh_funcs.wallpaper_groups.items():\n",
    "    print(key)\n",
    "    for key2, value2 in value.items():\n",
    "        print(f'\\t- {key2}: {value2}')\n",
    "    break"
   ]
  },
  {
   "cell_type": "code",
   "execution_count": null,
   "metadata": {},
   "outputs": [],
   "source": [
    "# check transforms per group\n",
    "for key, value in mesh_funcs.wallpaper_groups.items():\n",
    "    print(f'{key:5} {value[\"unit cell\"]}')"
   ]
  },
  {
   "cell_type": "markdown",
   "metadata": {},
   "source": [
    "# Check computation time"
   ]
  },
  {
   "cell_type": "code",
   "execution_count": null,
   "metadata": {},
   "outputs": [],
   "source": [
    "import glob\n",
    "import matplotlib.pyplot as plt\n",
    "from scipy.io import loadmat\n",
    "import os\n",
    "import numpy as np"
   ]
  },
  {
   "cell_type": "code",
   "execution_count": null,
   "metadata": {},
   "outputs": [],
   "source": [
    "folder_path = r\"C:\\Users\\s132764\\OneDrive - TU Eindhoven\\Werk\\matlab\\Martins_code\\data\"\n",
    "\n",
    "mat_files = [file for file in glob.glob(folder_path + \"/*.mat\") if not file.endswith('_specialnodes.mat')]\n",
    "\n",
    "times = []\n",
    "dates = []\n",
    "for file in mat_files:\n",
    "\n",
    "    # open file\n",
    "    data = loadmat(file)\n",
    "\n",
    "    times.extend(data['data_sim']['computation_time'][0][0][:, 0])\n",
    "\n",
    "    dates.append(os.path.getctime(file))\n"
   ]
  },
  {
   "cell_type": "code",
   "execution_count": null,
   "metadata": {},
   "outputs": [],
   "source": [
    "times = np.array(times)\n",
    "print(len(times))\n",
    "print(times[:10])"
   ]
  },
  {
   "cell_type": "code",
   "execution_count": null,
   "metadata": {},
   "outputs": [],
   "source": [
    "print(len(dates))\n",
    "print(len(times[::12]))"
   ]
  },
  {
   "cell_type": "code",
   "execution_count": null,
   "metadata": {},
   "outputs": [],
   "source": [
    "plt.scatter(dates, times[::12], s=1, alpha=0.5)\n",
    "\n",
    "times_avg = np.mean(times.reshape(-1, 12), axis=1)\n",
    "plt.scatter(dates, times_avg, c='r', s=1)\n",
    "\n",
    "plt.yscale('log')"
   ]
  },
  {
   "cell_type": "code",
   "execution_count": null,
   "metadata": {},
   "outputs": [],
   "source": [
    "# histogram of times\n",
    "# plt.hist(times, bins=100)\n",
    "plt.hist(times, bins=np.linspace(0, 5000, 100))\n",
    "plt.yscale('log')\n",
    "plt.ylabel('Nr of simulations')\n",
    "plt.xlabel('Computation time [s]')"
   ]
  },
  {
   "cell_type": "code",
   "execution_count": null,
   "metadata": {},
   "outputs": [],
   "source": [
    "# histogram of times with limited range\n",
    "plt.hist(times, bins=np.arange(0, 500, 5))\n",
    "plt.yscale('log')\n",
    "plt.ylabel('Nr of simulations')\n",
    "plt.xlabel('Computation time [s]')"
   ]
  },
  {
   "cell_type": "code",
   "execution_count": null,
   "metadata": {},
   "outputs": [],
   "source": [
    "# Average time\n",
    "print(np.mean(times))\n",
    "\n",
    "# Average time, excluding outliers\n",
    "print(np.mean(times[times<1000]))\n",
    "\n",
    "# Median time\n",
    "print(np.median(times))"
   ]
  }
 ],
 "metadata": {
  "kernelspec": {
   "display_name": "env_ML3",
   "language": "python",
   "name": "python3"
  },
  "language_info": {
   "codemirror_mode": {
    "name": "ipython",
    "version": 3
   },
   "file_extension": ".py",
   "mimetype": "text/x-python",
   "name": "python",
   "nbconvert_exporter": "python",
   "pygments_lexer": "ipython3",
   "version": "3.9.18"
  }
 },
 "nbformat": 4,
 "nbformat_minor": 2
}

{
 "cells": [
  {
   "cell_type": "markdown",
   "metadata": {},
   "source": [
    "Create simple plots of the deformation and the homogenized quantities over the course of a trajectory, and then create the various plots shown in the paper."
   ]
  },
  {
   "cell_type": "markdown",
   "metadata": {},
   "source": [
    "# Check contents of dicts"
   ]
  },
  {
   "cell_type": "code",
   "execution_count": null,
   "metadata": {},
   "outputs": [],
   "source": [
    "import os\n",
    "import pickle\n",
    "import matplotlib.pyplot as plt\n",
    "\n",
    "path = r'data\\dataset1\\final_dataset'\n",
    "for file in os.listdir(path):\n",
    "    if file.endswith('.pkl'):\n",
    "        with open(os.path.join(path, file), 'rb') as f:\n",
    "            data = pickle.load(f)\n",
    "\n",
    "            for key in data:\n",
    "                print(key)\n",
    "                for key2 in data[key]:\n",
    "                    print('\\t', key2)\n",
    "                    if isinstance(data[key][key2], dict):\n",
    "                        for key3 in data[key][key2]:\n",
    "                            print('\\t\\t', key3)\n",
    "\n",
    "        break"
   ]
  },
  {
   "cell_type": "markdown",
   "metadata": {},
   "source": [
    "# Plot deformation & evolution of stress components"
   ]
  },
  {
   "cell_type": "code",
   "execution_count": null,
   "metadata": {},
   "outputs": [],
   "source": [
    "import pickle\n",
    "import os\n",
    "\n",
    "geom = 'p3m1_hexagonal_2024-05-22_15-34-59.858415'\n",
    "path = os.path.join(r\"data\\dataset1\\final_dataset\", geom + \".pkl\")\n",
    "with open(path, 'rb') as f:\n",
    "    data = pickle.load(f)"
   ]
  },
  {
   "cell_type": "code",
   "execution_count": null,
   "metadata": {},
   "outputs": [],
   "source": [
    "\n",
    "import numpy as np\n",
    "import matplotlib.pyplot as plt"
   ]
  },
  {
   "cell_type": "code",
   "execution_count": null,
   "metadata": {},
   "outputs": [],
   "source": [
    "# plot the mesh, before and after deformation, and show the periodicity by marking the source and image nodes. Also show the lattice vectors.\n",
    "\n",
    "p = data['mesh']['RVE']['p']  # initial node positions\n",
    "e = data['mesh']['RVE']['edges']  # mesh edges\n",
    "source_nodes = data['mesh']['RVE']['source_nodes']\n",
    "image_nodes = data['mesh']['RVE']['image_nodes']\n",
    "\n",
    "# find time steps belonging to trajectory 3\n",
    "inds = np.where(data['time_steps']['trajectory'] == 3)[0]\n",
    "# deformed position at the last time step of trajectory 3\n",
    "p_def = data['time_steps']['x'][inds[-1]]\n",
    "\n",
    "lv = data['geometry']['unit_cell']['lattice_vectors']\n",
    "\n",
    "plt.figure()\n",
    "\n",
    "# plot nodes in their original position\n",
    "plt.scatter(*p.T, s=1, c='tab:blue', label='initial position')\n",
    "\n",
    "# plot nodes in their deformed position\n",
    "plt.scatter(*p_def.T, s=1, c='tab:orange', label='deformed position')\n",
    "\n",
    "# plot edges of deformed mesh\n",
    "x, y = np.transpose(p[e.T], axes=[2,0,1])\n",
    "edges0 = plt.plot(x, y, alpha=0.5, c='tab:blue')\n",
    "\n",
    "# plot edges of deformed mesh\n",
    "x, y = np.transpose(p_def[e.T], axes=[2,0,1])\n",
    "edges0 = plt.plot(x, y, alpha=0.5, c='tab:orange')\n",
    "\n",
    "# plot the source and image nodes\n",
    "plt.scatter(*p[source_nodes].T, s=10, c='tab:red', label='source nodes')\n",
    "plt.scatter(*p[image_nodes].T, s=10, c='tab:green', label='image nodes')\n",
    "\n",
    "# plot the lattice vectors\n",
    "plt.arrow(0, 0, lv[0, 0], lv[0, 1], head_width=0.1, head_length=0.1, fc='k', ec='k', zorder=10, length_includes_head=True)\n",
    "plt.arrow(0, 0, lv[1, 0], lv[1, 1], head_width=0.1, head_length=0.1, fc='k', ec='k', zorder=10, length_includes_head=True)\n",
    "\n",
    "# set aspect ratio to be equal\n",
    "plt.gca().set_aspect('equal')\n",
    "\n",
    "plt.legend()"
   ]
  },
  {
   "cell_type": "code",
   "execution_count": null,
   "metadata": {},
   "outputs": [],
   "source": [
    "# plot the evolution of the stress components during trajectory 1\n",
    "\n",
    "inds = np.where(data['time_steps']['trajectory'] == 1)[0]\n",
    "Time = data['time_steps']['Time'][inds]\n",
    "F = data['simulations']['F_final'][1]\n",
    "P = data['time_steps']['P'][inds]\n",
    "\n",
    "plt.figure()\n",
    "plt.title(f'At Time=1.0, F=[[{F[0,0]:.3}, {F[0,1]:.3}], [{F[1,0]:.3}, {F[1,1]:.3}]]')\n",
    "\n",
    "plt.plot(Time, P[:, 0, 0], label='$P_{11}$', marker='o')\n",
    "plt.plot(Time, P[:, 1, 1], label='$P_{22}$', marker='o')\n",
    "plt.plot(Time, P[:, 0, 1], label='$P_{12}$', marker='o')\n",
    "plt.plot(Time, P[:, 1, 0], label='$P_{21}$', marker='o')\n",
    "\n",
    "# add a vertical line at each bifurcation point\n",
    "t_bif = np.where(data['time_steps']['is_bifurcation_point'][inds])[0]\n",
    "for t in t_bif:\n",
    "    plt.axvline(Time[t], c='k', linestyle='--', label='bifurcation')\n",
    "\n",
    "plt.legend()\n",
    "plt.ylabel('P')\n",
    "plt.xlabel('Time')"
   ]
  },
  {
   "cell_type": "markdown",
   "metadata": {},
   "source": [
    "# Find one example of each wallpaper group + Bravais lattice\n",
    "Used in the paper as examples."
   ]
  },
  {
   "cell_type": "code",
   "execution_count": null,
   "metadata": {},
   "outputs": [],
   "source": [
    "dest_path = r'E:\\OneDrive - TU Eindhoven\\Werk\\paper_2'\n",
    "save_dir = r'E:\\OneDrive - TU Eindhoven\\Werk\\python\\wallpaper_dataset\\data\\dataset1\\final_dataset'\n",
    "\n",
    "import shutil\n",
    "import os\n",
    "import mesh_funcs as mf\n",
    "\n",
    "combis = []\n",
    "for group in mf.wallpaper_groups:\n",
    "    for shape in mf.wallpaper_groups[group]['fundamental domain parameters']:\n",
    "        combis.append(f'{group}_{shape}')\n",
    "\n",
    "print(combis)\n"
   ]
  },
  {
   "cell_type": "code",
   "execution_count": null,
   "metadata": {},
   "outputs": [],
   "source": [
    "len(combis)"
   ]
  },
  {
   "cell_type": "code",
   "execution_count": null,
   "metadata": {},
   "outputs": [],
   "source": [
    "for combi in combis:\n",
    "    # find one file starting with combi\n",
    "    for file in os.listdir(save_dir):\n",
    "        if file.startswith(combi) and file.endswith('.png'):\n",
    "            # copy the file to the destination\n",
    "            shutil.copy(os.path.join(save_dir, file), os.path.join(dest_path, file))\n",
    "            print(file)\n",
    "            break"
   ]
  },
  {
   "cell_type": "markdown",
   "metadata": {},
   "source": [
    "# 12 trajectories in one figure"
   ]
  },
  {
   "cell_type": "code",
   "execution_count": null,
   "metadata": {},
   "outputs": [],
   "source": [
    "import numpy as np\n",
    "import os\n",
    "import pickle\n",
    "import matplotlib.pyplot as plt"
   ]
  },
  {
   "cell_type": "code",
   "execution_count": null,
   "metadata": {},
   "outputs": [],
   "source": [
    "geom = 'p3m1_hexagonal_2024-05-22_15-33-58.634036'\n",
    "\n",
    "path = r'data\\dataset1\\final_dataset\\pickle_files'\n",
    "\n",
    "with open(os.path.join(path, geom + '.pkl'), 'rb') as f:\n",
    "    data = pickle.load(f)"
   ]
  },
  {
   "cell_type": "code",
   "execution_count": null,
   "metadata": {},
   "outputs": [],
   "source": [
    "plt.rcParams.update({\n",
    "    \"text.usetex\": True,\n",
    "    'text.latex.preamble': r'\\usepackage{{amsmath}} \\usepackage{{amssymb}} \\usepackage{{xcolor}}',\n",
    "    # 'font.size': 14\n",
    "})"
   ]
  },
  {
   "cell_type": "code",
   "execution_count": null,
   "metadata": {},
   "outputs": [],
   "source": []
  },
  {
   "cell_type": "code",
   "execution_count": null,
   "metadata": {},
   "outputs": [],
   "source": [
    "# plot the mesh, before and after deformation, and show the periodicity by marking the source and image nodes. Also show the lattice vectors.\n",
    "\n",
    "p = data['mesh']['RVE']['p'] # initial node positions\n",
    "t = data['mesh']['RVE']['t'] # initial node positions\n",
    "e = data['mesh']['RVE']['edges'] # mesh edges\n",
    "hb_inds = data['mesh']['RVE']['hole_boundary_edges_inds'] # indices of the hole boundary edges\n",
    "\n",
    "corners = data['geometry']['unit_cell']['corners'] # corners of the unit cell\n",
    "lv = data['geometry']['unit_cell']['lattice_vectors']\n",
    "\n",
    "fig, axes = plt.subplots(3,4, figsize=(12, 13), dpi=150)\n",
    "axes = axes.flatten()\n",
    "for traj in range(12):\n",
    "\n",
    "    ax = axes[traj]\n",
    "\n",
    "    # deformed position at the last time step of trajectory traj\n",
    "    inds = np.where(data['simulations']['time_steps']['trajectory'] == traj)[0]\n",
    "    p_def = data['simulations']['time_steps']['x'][inds[-1]]\n",
    "    F_temp = data['simulations']['time_steps']['F'][inds[-1]]\n",
    "    lv_def = np.dot(F_temp, lv.T).T\n",
    "\n",
    "    # plot elements of the original mesh, 2x2 RVE\n",
    "    for shifts in [[0, 0], [1, 0], [0, 1], [1, 1]]:\n",
    "        p2 = p +2*shifts[0]*lv[0] +2*shifts[1]*lv[1]\n",
    "\n",
    "        # plot hole boundary edges of deformed mesh\n",
    "        x, y = np.transpose(p2[e[hb_inds].T], axes=[2,0,1])\n",
    "        c='lightgrey'\n",
    "        edges0 = ax.plot(x, y, c=c)\n",
    "\n",
    "    # plot elements and hole boundaries of the deformed mesh, 2x2 RVE\n",
    "    for shifts in [[0, 0], [1, 0], [0, 1], [1, 1]]:\n",
    "        p_def2 = p_def +2*shifts[0]*lv_def[0] +2*shifts[1]*lv_def[1]\n",
    "\n",
    "        c = 'darkblue'\n",
    "        x, y = np.transpose(p_def2[e[hb_inds].T], axes=[2,0,1])\n",
    "        edges0 = ax.plot(x, y, c=c)\n",
    "\n",
    "    # set aspect ratio to be equal\n",
    "    ax.set_aspect('equal')\n",
    "\n",
    "    # ax.gca().set_title(f'F={F_final}')\n",
    "    temp_str = r'$\\textbf{\\textrm{F}}=\\begin{pmatrix}' + f'{F_temp[0,0]:.2}' + ' & ' + f'{F_temp[0,1]:.2}' + r'\\\\' + f'{F_temp[1,0]:.2}' + ' & ' + f'{F_temp[1,1]:.2}' + r'\\end{pmatrix}$'\n",
    "    if data['simulations']['trajectories']['error_flag'][traj]:\n",
    "        temp_str = temp_str + r', error_flag!'\n",
    "        # make latex textcolor red\n",
    "        temp_str = r'\\textcolor{red}{' + temp_str + '}'\n",
    "\n",
    "    ax.set_title(temp_str)\n",
    "\n",
    "# for each ax, get the current axis limits and set them to be the same\n",
    "xlim = [1000, -1000]\n",
    "ylim = [1000, -1000]\n",
    "for ax in axes:\n",
    "    xlim_temp = ax.get_xlim()\n",
    "    ylim_temp = ax.get_ylim()\n",
    "\n",
    "    xlim[0] = min(xlim[0], xlim_temp[0])\n",
    "    xlim[1] = max(xlim[1], xlim_temp[1])\n",
    "    ylim[0] = min(ylim[0], ylim_temp[0])\n",
    "    ylim[1] = max(ylim[1], ylim_temp[1])\n",
    "\n",
    "    print(xlim, ylim)\n",
    "\n",
    "for ax in axes:\n",
    "    ax.set_xlim(xlim)\n",
    "    ax.set_ylim(ylim)\n",
    "\n",
    "    ax.set_xlabel('x')\n",
    "    ax.set_ylabel('y')\n",
    "\n",
    "fig.subplots_adjust(hspace=0.2, wspace=0.3)\n",
    "# plt.savefig(geom + '_12simulations.png', dpi=300, bbox_inches='tight')\n",
    "    # break\n"
   ]
  },
  {
   "cell_type": "code",
   "execution_count": null,
   "metadata": {},
   "outputs": [],
   "source": [
    "data['simulations']['error_flag']"
   ]
  },
  {
   "cell_type": "code",
   "execution_count": null,
   "metadata": {},
   "outputs": [],
   "source": []
  },
  {
   "cell_type": "markdown",
   "metadata": {},
   "source": [
    "# Buckling frequency"
   ]
  },
  {
   "cell_type": "code",
   "execution_count": null,
   "metadata": {},
   "outputs": [],
   "source": [
    "import os\n",
    "import pickle\n",
    "import matplotlib.pyplot as plt\n",
    "import numpy as np\n",
    "import pandas as pd\n",
    "\n",
    "data_buckling = {'J_final_actual': [], 'contains_bifurcation': [], 'group': [], 'shape':[], 'volume_fraction':[]}\n",
    "path = r'data\\dataset1\\final_dataset\\pickle_files'\n",
    "for file in os.listdir(path):\n",
    "    if file.endswith('.pkl'):\n",
    "        with open(os.path.join(path, file), 'rb') as f:\n",
    "            data = pickle.load(f)\n",
    "\n",
    "        n = 12  # nr of simulations per geometry\n",
    "\n",
    "        data_buckling['contains_bifurcation'].extend(data['simulations']['trajectories']['contains_bifurcation'])\n",
    "        data_buckling['group'].extend([data['geometry']['fundamental_domain']['group']]*n)\n",
    "\n",
    "data_buckling"
   ]
  },
  {
   "cell_type": "code",
   "execution_count": null,
   "metadata": {},
   "outputs": [],
   "source": [
    "df = pd.DataFrame(data_buckling)\n",
    "df['contains_bifurcation'] = df['contains_bifurcation'].astype(bool)\n",
    "df"
   ]
  },
  {
   "cell_type": "code",
   "execution_count": null,
   "metadata": {},
   "outputs": [],
   "source": [
    "\n",
    "# Calculate the count of successful and unsuccessful cases per group\n",
    "df_counts = df.groupby(['group', 'contains_bifurcation']).size().unstack(fill_value=0)\n",
    "\n",
    "# Calculate the fraction of successful cases per group\n",
    "df_counts['Total'] = df_counts.sum(axis=1)\n",
    "df_counts['Success_Fraction'] = df_counts[True] / df_counts['Total']\n",
    "df_counts['Failure_Fraction'] = df_counts[False] / df_counts['Total']\n",
    "\n",
    "# Pivot the DataFrame for plotting\n",
    "df_pivot = df_counts[['Success_Fraction', 'Failure_Fraction']]\n",
    "\n",
    "# Plot the stacked bar chart\n",
    "df_pivot.plot(kind='bar', stacked=True, color=['tab:blue', 'tab:orange'])\n",
    "\n",
    "# Customize the plot\n",
    "# plt.title('Fraction of Buckling Cases per Group')\n",
    "plt.xlabel('Wallpaper group')\n",
    "plt.ylabel('Fraction of buckling cases')\n",
    "plt.legend(labels=['Buckles', 'Does not buckle'])\n",
    "plt.savefig('buckling_fraction.pdf', bbox_inches='tight')\n",
    "plt.show()\n"
   ]
  },
  {
   "cell_type": "markdown",
   "metadata": {},
   "source": [
    "# Check number of time steps"
   ]
  },
  {
   "cell_type": "code",
   "execution_count": null,
   "metadata": {},
   "outputs": [],
   "source": [
    "import os\n",
    "import pickle\n",
    "import matplotlib.pyplot as plt\n",
    "\n",
    "n_time_steps = []\n",
    "path = r'data\\dataset1\\final_dataset'\n",
    "for file in os.listdir(path):\n",
    "    if file.endswith('.pkl'):\n",
    "        with open(os.path.join(path, file), 'rb') as f:\n",
    "            data = pickle.load(f)\n",
    "\n",
    "        n = len(data['simulations']['F_final'])  # should always be twelve\n",
    "        assert n==12, f'Expected 12 simulations, but got {n}'\n",
    "\n",
    "        for i in range(n):\n",
    "            inds = np.where(data['time_steps']['trajectory'] == i)[0]\n",
    "            n_time_steps.append(len(inds))\n",
    "\n",
    "n_time_steps"
   ]
  },
  {
   "cell_type": "code",
   "execution_count": null,
   "metadata": {},
   "outputs": [],
   "source": [
    "plt.hist(n_time_steps, bins=100)\n",
    "plt.xlabel('Number of time steps')\n",
    "plt.ylabel('Frequency')"
   ]
  },
  {
   "cell_type": "code",
   "execution_count": null,
   "metadata": {},
   "outputs": [],
   "source": [
    "print(f'Mean: {np.mean(n_time_steps)}')\n",
    "print(f'Median: {np.median(n_time_steps)}')\n",
    "print(f'Min: {np.min(n_time_steps)}')\n",
    "print(f'Max: {np.max(n_time_steps)}')\n",
    "print(f'Sum: {np.sum(n_time_steps)}')"
   ]
  }
 ],
 "metadata": {
  "kernelspec": {
   "display_name": "env_ML3",
   "language": "python",
   "name": "python3"
  },
  "language_info": {
   "codemirror_mode": {
    "name": "ipython",
    "version": 3
   },
   "file_extension": ".py",
   "mimetype": "text/x-python",
   "name": "python",
   "nbconvert_exporter": "python",
   "pygments_lexer": "ipython3",
   "version": "3.9.18"
  }
 },
 "nbformat": 4,
 "nbformat_minor": 2
}
